{
 "cells": [
  {
   "cell_type": "markdown",
   "metadata": {},
   "source": [
    "## 1. Scala's real-world project repository data\n",
    "<p>With almost 30k commits and a history spanning over ten years, Scala is a mature programming language. It is a general-purpose programming language that has recently become another prominent language for data scientists.</p>\n",
    "<p>Scala is also an open source project. Open source projects have the advantage that their entire development histories -- who made changes, what was changed, code reviews, etc. -- are publicly available. </p>\n",
    "<strong><p>We're going to read in, clean up, and visualize the real world project repository of Scala that spans data from a version control system (Git) as well as a project hosting site (GitHub). We will find out who has had the most influence on its development and who are the experts.</p></strong>\n",
    "<p>The dataset we will use, which has been previously mined and extracted from GitHub, is comprised of three files:</p>\n",
    "<ol>\n",
    "<li><code>pulls_2011-2013.csv</code> contains the basic information about the pull requests, and spans from the end of 2011 up to (but not including) 2014.</li>\n",
    "<li><code>pulls_2014-2018.csv</code> contains identical information, and spans from 2014 up to 2018.</li>\n",
    "<li><code>pull_files.csv</code> contains the files that were modified by each pull request.</li>\n",
    "</ol>"
   ]
  },
  {
   "cell_type": "markdown",
   "metadata": {},
   "source": [
    "#### Task 1: Instructions\n",
    "Import the dataset into the notebook. All the relevant files can be found in the datasets subfolder."
   ]
  },
  {
   "cell_type": "code",
   "execution_count": 88,
   "metadata": {},
   "outputs": [
    {
     "name": "stdout",
     "output_type": "stream",
     "text": [
      "           pid         user                  date\n",
      "0     11166973  VladimirNik  2013-12-31T23:10:55Z\n",
      "1     11161892      Ichoran  2013-12-31T16:55:47Z\n",
      "2     11153894      Ichoran  2013-12-31T02:41:13Z\n",
      "3     11151917      rklaehn  2013-12-30T23:45:47Z\n",
      "4     11131244        qerub  2013-12-29T17:21:01Z\n",
      "...        ...          ...                   ...\n",
      "3291    547941      xeno-by  2011-12-01T16:16:42Z\n",
      "3292    547354      szeiger  2011-12-01T14:03:23Z\n",
      "3293    547150      odersky  2011-12-01T12:39:40Z\n",
      "3294    547003      robinst  2011-12-01T11:42:26Z\n",
      "3295    546847      odersky  2011-12-01T10:41:01Z\n",
      "\n",
      "[3296 rows x 3 columns] \n",
      "\n",
      "\n",
      "            pid       user                  date\n",
      "0     163314316     hrhino  2018-01-16T23:29:16Z\n",
      "1     163061502   joroKr21  2018-01-15T23:44:52Z\n",
      "2     163057333  mkeskells  2018-01-15T23:05:06Z\n",
      "3     162985594      lrytz  2018-01-15T15:52:39Z\n",
      "4     162838837  zuvizudar  2018-01-14T19:16:16Z\n",
      "...         ...        ...                   ...\n",
      "2899   11244241     folone  2014-01-06T09:07:34Z\n",
      "2900   11240674   clhodapp  2014-01-06T03:52:23Z\n",
      "2901   11234757    xeno-by  2014-01-05T12:23:24Z\n",
      "2902   11231462    rklaehn  2014-01-04T22:42:02Z\n",
      "2903   11188295    rklaehn  2014-01-02T18:55:33Z\n",
      "\n",
      "[2904 rows x 3 columns] \n",
      "\n",
      "\n"
     ]
    }
   ],
   "source": [
    "# Importing pandas\n",
    "# ... YOUR CODE FOR TASK 1 ...\n",
    "\n",
    "import pandas as pd\n",
    "import numpy as np\n",
    "import matplotlib.pyplot as plt\n",
    "\n",
    "# Loading in the data\n",
    "pulls_one = pd.read_csv(\"datasets/Scala/pulls_2011-2013.csv\")\n",
    "pulls_two = pd.read_csv(\"datasets/Scala/pulls_2014-2018.csv\")\n",
    "pull_files = pd.read_csv(\"datasets/Scala/pull_files.csv\") \n",
    "\n",
    "print(pulls_one, \"\\n\\n\")\n",
    "print(pulls_two, \"\\n\\n\")\n"
   ]
  },
  {
   "cell_type": "markdown",
   "metadata": {},
   "source": [
    "## 2. Preparing and cleaning the data\n",
    "<p>First, we will need to combine the data from the two separate pull DataFrames. </p>\n",
    "<p>Next, the raw data extracted from GitHub contains dates in the ISO8601 format. However, <code>pandas</code> imports them as regular strings. To make our analysis easier, we need to convert the strings into Python's <code>DateTime</code> objects. <code>DateTime</code> objects have the important property that they can be compared and sorted.</p>\n",
    "<p>The pull request times are all in UTC (also known as Coordinated Universal Time). The commit times, however, are in the local time of the author with time zone information (number of hours difference from UTC). To make comparisons easy, we should convert all times to UTC.</p>"
   ]
  },
  {
   "cell_type": "markdown",
   "metadata": {},
   "source": [
    "#### Task 2: Instructions\n",
    "Combine the two pulls DataFrames and then convert date to a DateTime object.\n",
    "\n",
    "Append pulls_one to pulls_two and assign the result to pulls.\n",
    "Convert the date column for the pulls object from a string into a DateTime object.\n",
    "For the conversion, we recommend using pandas' to_datetime() function. Set the utc parameter to True, as this will simplify future operations.\n",
    "\n",
    "Coordinated Universal Time (UTC) is the basis for civil time today. This 24-hour time standard is kept using highly precise atomic clocks combined with the Earth's rotation."
   ]
  },
  {
   "cell_type": "code",
   "execution_count": 89,
   "metadata": {},
   "outputs": [
    {
     "name": "stdout",
     "output_type": "stream",
     "text": [
      "           pid         user                  date\n",
      "0     11166973  VladimirNik  2013-12-31T23:10:55Z\n",
      "1     11161892      Ichoran  2013-12-31T16:55:47Z\n",
      "2     11153894      Ichoran  2013-12-31T02:41:13Z\n",
      "3     11151917      rklaehn  2013-12-30T23:45:47Z\n",
      "4     11131244        qerub  2013-12-29T17:21:01Z\n",
      "...        ...          ...                   ...\n",
      "2899  11244241       folone  2014-01-06T09:07:34Z\n",
      "2900  11240674     clhodapp  2014-01-06T03:52:23Z\n",
      "2901  11234757      xeno-by  2014-01-05T12:23:24Z\n",
      "2902  11231462      rklaehn  2014-01-04T22:42:02Z\n",
      "2903  11188295      rklaehn  2014-01-02T18:55:33Z\n",
      "\n",
      "[6200 rows x 3 columns] \n",
      "\n",
      "\n",
      "0      2013-12-31 23:10:55+00:00\n",
      "1      2013-12-31 16:55:47+00:00\n",
      "2      2013-12-31 02:41:13+00:00\n",
      "3      2013-12-30 23:45:47+00:00\n",
      "4      2013-12-29 17:21:01+00:00\n",
      "                  ...           \n",
      "2899   2014-01-06 09:07:34+00:00\n",
      "2900   2014-01-06 03:52:23+00:00\n",
      "2901   2014-01-05 12:23:24+00:00\n",
      "2902   2014-01-04 22:42:02+00:00\n",
      "2903   2014-01-02 18:55:33+00:00\n",
      "Name: date, Length: 6200, dtype: datetime64[ns, UTC]\n"
     ]
    }
   ],
   "source": [
    "# Append pulls_one to pulls_two\n",
    "pulls = pulls_one.append(pulls_two) #3296 + 2904 = 6200\n",
    "print(pulls, \"\\n\\n\") \n",
    "\n",
    "# Convert the date for the pulls object\n",
    "pulls['date'] = pd.to_datetime(pulls[\"date\"]) #date changes to UTC version\n",
    "print(pulls['date'])"
   ]
  },
  {
   "cell_type": "markdown",
   "metadata": {},
   "source": [
    "## 3. Merging the DataFrames\n",
    "<p>The data extracted comes in two separate files. Merging the two DataFrames will make it easier for us to analyze the data in the future tasks.</p>"
   ]
  },
  {
   "cell_type": "markdown",
   "metadata": {},
   "source": [
    "#### Task 3: Instructions\n",
    "Merge the two DataFrames.\n",
    "\n",
    "Merge pulls and pull_files on the pid column. Assign the result to the data variable.\n",
    "The pandas DataFrame has a merge method that will perform the joining of two DataFrames on a common field."
   ]
  },
  {
   "cell_type": "code",
   "execution_count": 90,
   "metadata": {},
   "outputs": [
    {
     "data": {
      "text/html": [
       "<div>\n",
       "<style scoped>\n",
       "    .dataframe tbody tr th:only-of-type {\n",
       "        vertical-align: middle;\n",
       "    }\n",
       "\n",
       "    .dataframe tbody tr th {\n",
       "        vertical-align: top;\n",
       "    }\n",
       "\n",
       "    .dataframe thead th {\n",
       "        text-align: right;\n",
       "    }\n",
       "</style>\n",
       "<table border=\"1\" class=\"dataframe\">\n",
       "  <thead>\n",
       "    <tr style=\"text-align: right;\">\n",
       "      <th></th>\n",
       "      <th>pid</th>\n",
       "      <th>user</th>\n",
       "      <th>date</th>\n",
       "      <th>file</th>\n",
       "    </tr>\n",
       "  </thead>\n",
       "  <tbody>\n",
       "    <tr>\n",
       "      <th>0</th>\n",
       "      <td>11166973</td>\n",
       "      <td>VladimirNik</td>\n",
       "      <td>2013-12-31 23:10:55+00:00</td>\n",
       "      <td>src/reflect/scala/reflect/api/Printers.scala</td>\n",
       "    </tr>\n",
       "    <tr>\n",
       "      <th>1</th>\n",
       "      <td>11166973</td>\n",
       "      <td>VladimirNik</td>\n",
       "      <td>2013-12-31 23:10:55+00:00</td>\n",
       "      <td>src/reflect/scala/reflect/internal/Printers.scala</td>\n",
       "    </tr>\n",
       "    <tr>\n",
       "      <th>2</th>\n",
       "      <td>11166973</td>\n",
       "      <td>VladimirNik</td>\n",
       "      <td>2013-12-31 23:10:55+00:00</td>\n",
       "      <td>test/files/run/reify_ann3.check</td>\n",
       "    </tr>\n",
       "    <tr>\n",
       "      <th>3</th>\n",
       "      <td>11166973</td>\n",
       "      <td>VladimirNik</td>\n",
       "      <td>2013-12-31 23:10:55+00:00</td>\n",
       "      <td>test/junit/scala/reflect/internal/PrintersTest...</td>\n",
       "    </tr>\n",
       "    <tr>\n",
       "      <th>4</th>\n",
       "      <td>11161892</td>\n",
       "      <td>Ichoran</td>\n",
       "      <td>2013-12-31 16:55:47+00:00</td>\n",
       "      <td>src/library/scala/collection/mutable/ArrayOps....</td>\n",
       "    </tr>\n",
       "    <tr>\n",
       "      <th>...</th>\n",
       "      <td>...</td>\n",
       "      <td>...</td>\n",
       "      <td>...</td>\n",
       "      <td>...</td>\n",
       "    </tr>\n",
       "    <tr>\n",
       "      <th>85583</th>\n",
       "      <td>11231462</td>\n",
       "      <td>rklaehn</td>\n",
       "      <td>2014-01-04 22:42:02+00:00</td>\n",
       "      <td>src/library/scala/collection/immutable/HashSet...</td>\n",
       "    </tr>\n",
       "    <tr>\n",
       "      <th>85584</th>\n",
       "      <td>11188295</td>\n",
       "      <td>rklaehn</td>\n",
       "      <td>2014-01-02 18:55:33+00:00</td>\n",
       "      <td>src/library/scala/collection/immutable/HashSet...</td>\n",
       "    </tr>\n",
       "    <tr>\n",
       "      <th>85585</th>\n",
       "      <td>11188295</td>\n",
       "      <td>rklaehn</td>\n",
       "      <td>2014-01-02 18:55:33+00:00</td>\n",
       "      <td>test/files/run/t6253a.scala</td>\n",
       "    </tr>\n",
       "    <tr>\n",
       "      <th>85586</th>\n",
       "      <td>11188295</td>\n",
       "      <td>rklaehn</td>\n",
       "      <td>2014-01-02 18:55:33+00:00</td>\n",
       "      <td>test/files/run/t6253b.scala</td>\n",
       "    </tr>\n",
       "    <tr>\n",
       "      <th>85587</th>\n",
       "      <td>11188295</td>\n",
       "      <td>rklaehn</td>\n",
       "      <td>2014-01-02 18:55:33+00:00</td>\n",
       "      <td>test/files/run/t6253c.scala</td>\n",
       "    </tr>\n",
       "  </tbody>\n",
       "</table>\n",
       "<p>85588 rows × 4 columns</p>\n",
       "</div>"
      ],
      "text/plain": [
       "            pid         user                      date  \\\n",
       "0      11166973  VladimirNik 2013-12-31 23:10:55+00:00   \n",
       "1      11166973  VladimirNik 2013-12-31 23:10:55+00:00   \n",
       "2      11166973  VladimirNik 2013-12-31 23:10:55+00:00   \n",
       "3      11166973  VladimirNik 2013-12-31 23:10:55+00:00   \n",
       "4      11161892      Ichoran 2013-12-31 16:55:47+00:00   \n",
       "...         ...          ...                       ...   \n",
       "85583  11231462      rklaehn 2014-01-04 22:42:02+00:00   \n",
       "85584  11188295      rklaehn 2014-01-02 18:55:33+00:00   \n",
       "85585  11188295      rklaehn 2014-01-02 18:55:33+00:00   \n",
       "85586  11188295      rklaehn 2014-01-02 18:55:33+00:00   \n",
       "85587  11188295      rklaehn 2014-01-02 18:55:33+00:00   \n",
       "\n",
       "                                                    file  \n",
       "0           src/reflect/scala/reflect/api/Printers.scala  \n",
       "1      src/reflect/scala/reflect/internal/Printers.scala  \n",
       "2                        test/files/run/reify_ann3.check  \n",
       "3      test/junit/scala/reflect/internal/PrintersTest...  \n",
       "4      src/library/scala/collection/mutable/ArrayOps....  \n",
       "...                                                  ...  \n",
       "85583  src/library/scala/collection/immutable/HashSet...  \n",
       "85584  src/library/scala/collection/immutable/HashSet...  \n",
       "85585                        test/files/run/t6253a.scala  \n",
       "85586                        test/files/run/t6253b.scala  \n",
       "85587                        test/files/run/t6253c.scala  \n",
       "\n",
       "[85588 rows x 4 columns]"
      ]
     },
     "execution_count": 90,
     "metadata": {},
     "output_type": "execute_result"
    }
   ],
   "source": [
    "# Merge the two DataFrames\n",
    "data = pulls.merge(pull_files, on =\"pid\")\n",
    "data"
   ]
  },
  {
   "cell_type": "markdown",
   "metadata": {},
   "source": [
    "## 4. Is the project still actively maintained?\n",
    "<p>The activity in an open source project is not very consistent. Some projects might be active for many years after the initial release, while others can slowly taper out into oblivion. Before committing to contributing to a project, it is important to understand the state of the project. Is development going steadily, or is there a drop? Has the project been abandoned altogether?</p>\n",
    "<p>The data used in this project was collected in January of 2018. We are interested in the evolution of the number of contributions up to that date.</p>\n",
    "<p>For Scala, we will do this by plotting a chart of the project's activity. We will calculate the number of pull requests submitted each (calendar) month during the project's lifetime. We will then plot these numbers to see the trend of contributions.</p>\n",
    "<ul>\n",
    "<li><p>A helpful reminder of how to access various components of a date can be found in <a href=\"https://campus.datacamp.com/courses/data-manipulation-with-pandas/slicing-and-indexing?ex=12\">this exercise of Data Manipulation with pandas</a></p></li>\n",
    "<li><p>Additionally, recall that you can group by multiple variables by passing a list to <code>.groupby()</code>. This video from <a href=\"https://campus.datacamp.com/courses/data-manipulation-with-pandas/aggregating-dataframes?ex=9\">Data Manipulation with pandas</a> should help!</p></li>\n",
    "</ul>"
   ]
  },
  {
   "cell_type": "markdown",
   "metadata": {},
   "source": [
    "#### Task 4: Instructions\n",
    "Calculate and plot project activity in terms of pull requests.\n",
    "\n",
    "Group data by month and year (i.e. '2011-01', '2011-02', etc), and count the number pull requests (pid). Store the counts in a variable called counts.\n",
    "There are a number of ways to accomplish this.\n",
    "One way would be to create two new columns containing the year and month attributes of the date column, and then group by these two variables.\n",
    "Plot counts using a bar chart (this has been done for you).\n",
    "Note, the scaffolding exists to help you create the two columns as suggested above. However, this exercise will only check whether you create counts correctly. Thus, alternate solutions are more than welcome!"
   ]
  },
  {
   "cell_type": "code",
   "execution_count": 91,
   "metadata": {},
   "outputs": [
    {
     "data": {
      "text/plain": [
       "<matplotlib.axes._subplots.AxesSubplot at 0x24a0c6769a0>"
      ]
     },
     "execution_count": 91,
     "metadata": {},
     "output_type": "execute_result"
    },
    {
     "data": {
      "image/png": "[encoded data removed]",
      "text/plain": [
       "<Figure size 864x288 with 1 Axes>"
      ]
     },
     "metadata": {
      "needs_background": "light"
     },
     "output_type": "display_data"
    }
   ],
   "source": [
    "%matplotlib inline\n",
    "\n",
    "# Create a column that will store the month\n",
    "data['month'] = pd.DatetimeIndex(data['date']).month\n",
    "\n",
    "# Create a column that will store the year\n",
    "data['year'] = pd.DatetimeIndex(data['date']).year\n",
    "\n",
    "# Group by the month and year and count the pull requests\n",
    "counts = data.groupby([\"year\", \"month\"])[\"pid\"].agg(['count'])\n",
    "\n",
    "# Plot the results\n",
    "counts.plot(kind='bar', figsize = (12,4))\n"
   ]
  },
  {
   "cell_type": "markdown",
   "metadata": {},
   "source": [
    "## 5. Is there camaraderie(isbirliği, uyum) in the project?\n",
    "<p>The organizational structure varies from one project to another, and it can influence your success as a contributor. A project that has a very small community might not be the best one to start working on. The small community might indicate a high barrier of entry. This can be caused by several factors, including a community that is reluctant to accept pull requests from \"outsiders,\" that the code base is hard to work with, etc. However, a large community can serve as an indicator that the project is regularly accepting pull requests from new contributors. Such a project would be a good place to start.</p>\n",
    "<p>In order to evaluate the dynamics of the community, we will plot a histogram of the number of pull requests submitted by each user. A distribution that shows that there are few people that only contribute a small number of pull requests can be used as in indicator that the project is not welcoming of new contributors. </p>"
   ]
  },
  {
   "cell_type": "markdown",
   "metadata": {},
   "source": [
    "#### Task 5: Instructions\n",
    "Plot pull requests by user.\n",
    "\n",
    "Group the pull requests by each user and count the number of pull requests they submitted. Store the counts in a variable called by_user.\n",
    "Plot the histogram for by_user."
   ]
  },
  {
   "cell_type": "code",
   "execution_count": 92,
   "metadata": {},
   "outputs": [
    {
     "name": "stdout",
     "output_type": "stream",
     "text": [
      "user\n",
      "0xmohit           2\n",
      "193s              4\n",
      "2m               20\n",
      "4.00E+06         22\n",
      "AlexeyIvanov8     2\n",
      "                 ..\n",
      "yinxusen          1\n",
      "yllan             4\n",
      "ziggystar        22\n",
      "zsxwing           6\n",
      "zuvizudar         1\n",
      "Name: file, Length: 464, dtype: int64 \n",
      "\n",
      "\n"
     ]
    },
    {
     "data": {
      "text/plain": [
       "<matplotlib.axes._subplots.AxesSubplot at 0x24a076ce1f0>"
      ]
     },
     "execution_count": 92,
     "metadata": {},
     "output_type": "execute_result"
    },
    {
     "data": {
      "image/png": "[encoded data removed]",
      "text/plain": [
       "<Figure size 432x288 with 1 Axes>"
      ]
     },
     "metadata": {
      "needs_background": "light"
     },
     "output_type": "display_data"
    }
   ],
   "source": [
    "# Required for matplotlib\n",
    "%matplotlib inline\n",
    "\n",
    "# Group by the submitter\n",
    "by_user = data.groupby([\"user\"])[\"file\"].agg('count')\n",
    "print(by_user, \"\\n\\n\")\n",
    "\n",
    "# Plot the histogram\n",
    "by_user.hist()"
   ]
  },
  {
   "cell_type": "markdown",
   "metadata": {},
   "source": [
    "## 6. What files were changed in the last ten pull requests?\n",
    "<p>Choosing the right place to make a contribution is as important as choosing the project to contribute to. Some parts of the code might be stable, some might be dead. Contributing there might not have the most impact. Therefore it is important to understand the parts of the system that have been recently changed. This allows us to pinpoint the \"hot\" areas of the code where most of the activity is happening. Focusing on those parts might not the most effective use of our times.</p>"
   ]
  },
  {
   "cell_type": "markdown",
   "metadata": {},
   "source": [
    "#### Task 6: Instructions\n",
    "Identify the files changed in the last ten pull requests.\n",
    "\n",
    "Select the last ten pull requests and name the resulting DataFrame last_10.\n",
    "Merge last_10 with the pull_files DataFrame on pid, assigning the result to joined_pr.\n",
    "Identify the unique files in joined_pr (via the file column) using set().\n",
    "Python's DateTime objects are comparable and sortable. A more recent date is larger than an older date. In task 2, we converted the date column into DateTime objects. Therefore, the largest ten values in the date column are the most recent ones.\n",
    "\n",
    "pandas' nlargest method (documentation) is helpful for the first bullet.\n",
    "\n",
    "Here is an example of using set() on Stack Overflow."
   ]
  },
  {
   "cell_type": "code",
   "execution_count": 93,
   "metadata": {},
   "outputs": [
    {
     "name": "stdout",
     "output_type": "stream",
     "text": [
      "         pid         user                  date\n",
      "0  163314316       hrhino  2018-01-16T23:29:16Z\n",
      "1  163061502     joroKr21  2018-01-15T23:44:52Z\n",
      "2  163057333    mkeskells  2018-01-15T23:05:06Z\n",
      "3  162985594        lrytz  2018-01-15T15:52:39Z\n",
      "4  162838837    zuvizudar  2018-01-14T19:16:16Z\n",
      "5  162765232  howtonotwin  2018-01-13T04:37:17Z\n",
      "6  162643301       hrhino  2018-01-12T14:29:49Z\n",
      "7  162256029    mkeskells  2018-01-10T23:20:03Z\n",
      "8  162197834    SethTisue  2018-01-10T18:31:25Z\n",
      "9  162011899     joroKr21  2018-01-10T00:45:57Z \n",
      "\n",
      "          pid                                               file         user  \\\n",
      "0   163314316                    test/files/pos/t5638/Among.java       hrhino   \n",
      "1   163314316                   test/files/pos/t5638/Usage.scala       hrhino   \n",
      "2   163314316                         test/files/pos/t9291.scala       hrhino   \n",
      "3   163314316                         test/files/run/t8348.check       hrhino   \n",
      "4   163314316              test/files/run/t8348/TableColumn.java       hrhino   \n",
      "5   163314316          test/files/run/t8348/TableColumnImpl.java       hrhino   \n",
      "6   163314316                    test/files/run/t8348/Test.scala       hrhino   \n",
      "7   163061502            src/library/scala/concurrent/Lock.scala     joroKr21   \n",
      "8   163057333  src/compiler/scala/tools/nsc/profile/AsyncHelp...    mkeskells   \n",
      "9   163057333  src/compiler/scala/tools/nsc/profile/Profiler....    mkeskells   \n",
      "10  162985594  src/compiler/scala/tools/nsc/backend/jvm/BCode...        lrytz   \n",
      "11  162985594  src/compiler/scala/tools/nsc/symtab/classfile/...        lrytz   \n",
      "12  162985594  src/reflect/scala/reflect/internal/pickling/By...        lrytz   \n",
      "13  162838837  src/compiler/scala/reflect/reify/phases/Calcul...    zuvizudar   \n",
      "14  162765232                     src/library/scala/Predef.scala  howtonotwin   \n",
      "15  162765232                test/files/neg/leibniz-liskov.check  howtonotwin   \n",
      "16  162765232                test/files/neg/leibniz-liskov.scala  howtonotwin   \n",
      "17  162765232                test/files/pos/leibniz-liskov.scala  howtonotwin   \n",
      "18  162765232                test/files/pos/leibniz_liskov.scala  howtonotwin   \n",
      "19  162643301  src/compiler/scala/tools/nsc/typechecker/Conte...       hrhino   \n",
      "20  162643301          test/files/pos/parallel-classloader.scala       hrhino   \n",
      "21  162643301               test/files/pos/t10568/Converter.java       hrhino   \n",
      "22  162643301                   test/files/pos/t10568/Impl.scala       hrhino   \n",
      "23  162256029  src/compiler/scala/tools/nsc/backend/jvm/PostP...    mkeskells   \n",
      "24  162256029  src/compiler/scala/tools/nsc/backend/jvm/analy...    mkeskells   \n",
      "25  162197834                                            LICENSE    SethTisue   \n",
      "26  162197834                                     doc/LICENSE.md    SethTisue   \n",
      "27  162197834                                    doc/License.rtf    SethTisue   \n",
      "28  162197834                          project/VersionUtil.scala    SethTisue   \n",
      "29  162197834            src/library/scala/util/Properties.scala    SethTisue   \n",
      "30  162197834  src/scaladoc/scala/tools/nsc/doc/html/page/Ent...    SethTisue   \n",
      "31  162197834                      src/scalap/decoder.properties    SethTisue   \n",
      "32  162011899  src/reflect/scala/reflect/internal/tpe/GlbLubs...     joroKr21   \n",
      "33  162011899                        test/files/pos/t10686.scala     joroKr21   \n",
      "\n",
      "                    date  \n",
      "0   2018-01-16T23:29:16Z  \n",
      "1   2018-01-16T23:29:16Z  \n",
      "2   2018-01-16T23:29:16Z  \n",
      "3   2018-01-16T23:29:16Z  \n",
      "4   2018-01-16T23:29:16Z  \n",
      "5   2018-01-16T23:29:16Z  \n",
      "6   2018-01-16T23:29:16Z  \n",
      "7   2018-01-15T23:44:52Z  \n",
      "8   2018-01-15T23:05:06Z  \n",
      "9   2018-01-15T23:05:06Z  \n",
      "10  2018-01-15T15:52:39Z  \n",
      "11  2018-01-15T15:52:39Z  \n",
      "12  2018-01-15T15:52:39Z  \n",
      "13  2018-01-14T19:16:16Z  \n",
      "14  2018-01-13T04:37:17Z  \n",
      "15  2018-01-13T04:37:17Z  \n",
      "16  2018-01-13T04:37:17Z  \n",
      "17  2018-01-13T04:37:17Z  \n",
      "18  2018-01-13T04:37:17Z  \n",
      "19  2018-01-12T14:29:49Z  \n",
      "20  2018-01-12T14:29:49Z  \n",
      "21  2018-01-12T14:29:49Z  \n",
      "22  2018-01-12T14:29:49Z  \n",
      "23  2018-01-10T23:20:03Z  \n",
      "24  2018-01-10T23:20:03Z  \n",
      "25  2018-01-10T18:31:25Z  \n",
      "26  2018-01-10T18:31:25Z  \n",
      "27  2018-01-10T18:31:25Z  \n",
      "28  2018-01-10T18:31:25Z  \n",
      "29  2018-01-10T18:31:25Z  \n",
      "30  2018-01-10T18:31:25Z  \n",
      "31  2018-01-10T18:31:25Z  \n",
      "32  2018-01-10T00:45:57Z  \n",
      "33  2018-01-10T00:45:57Z   \n",
      "\n"
     ]
    },
    {
     "data": {
      "text/plain": [
       "{'LICENSE',\n",
       " 'doc/LICENSE.md',\n",
       " 'doc/License.rtf',\n",
       " 'project/VersionUtil.scala',\n",
       " 'src/compiler/scala/reflect/reify/phases/Calculate.scala',\n",
       " 'src/compiler/scala/tools/nsc/backend/jvm/BCodeHelpers.scala',\n",
       " 'src/compiler/scala/tools/nsc/backend/jvm/PostProcessor.scala',\n",
       " 'src/compiler/scala/tools/nsc/backend/jvm/analysis/BackendUtils.scala',\n",
       " 'src/compiler/scala/tools/nsc/profile/AsyncHelper.scala',\n",
       " 'src/compiler/scala/tools/nsc/profile/Profiler.scala',\n",
       " 'src/compiler/scala/tools/nsc/symtab/classfile/ClassfileParser.scala',\n",
       " 'src/compiler/scala/tools/nsc/typechecker/Contexts.scala',\n",
       " 'src/library/scala/Predef.scala',\n",
       " 'src/library/scala/concurrent/Lock.scala',\n",
       " 'src/library/scala/util/Properties.scala',\n",
       " 'src/reflect/scala/reflect/internal/pickling/ByteCodecs.scala',\n",
       " 'src/reflect/scala/reflect/internal/tpe/GlbLubs.scala',\n",
       " 'src/scaladoc/scala/tools/nsc/doc/html/page/Entity.scala',\n",
       " 'src/scalap/decoder.properties',\n",
       " 'test/files/neg/leibniz-liskov.check',\n",
       " 'test/files/neg/leibniz-liskov.scala',\n",
       " 'test/files/pos/leibniz-liskov.scala',\n",
       " 'test/files/pos/leibniz_liskov.scala',\n",
       " 'test/files/pos/parallel-classloader.scala',\n",
       " 'test/files/pos/t10568/Converter.java',\n",
       " 'test/files/pos/t10568/Impl.scala',\n",
       " 'test/files/pos/t10686.scala',\n",
       " 'test/files/pos/t5638/Among.java',\n",
       " 'test/files/pos/t5638/Usage.scala',\n",
       " 'test/files/pos/t9291.scala',\n",
       " 'test/files/run/t8348.check',\n",
       " 'test/files/run/t8348/TableColumn.java',\n",
       " 'test/files/run/t8348/TableColumnImpl.java',\n",
       " 'test/files/run/t8348/Test.scala'}"
      ]
     },
     "execution_count": 93,
     "metadata": {},
     "output_type": "execute_result"
    }
   ],
   "source": [
    "# Identify the last 10 pull requests\n",
    "last_10 = pulls_two.nlargest(10, 'pid', keep = \"last\")\n",
    "print(last_10, \"\\n\")\n",
    "\n",
    "# Join the two data sets\n",
    "joined_pr = pull_files.merge(last_10, on = \"pid\")\n",
    "print(joined_pr, \"\\n\")\n",
    "\n",
    "# Identify the unique files\n",
    "files = set(joined_pr['file'])\n",
    "\n",
    "# Print the results\n",
    "files"
   ]
  },
  {
   "cell_type": "markdown",
   "metadata": {},
   "source": [
    "## 7. Who made the most pull requests to a given file?\n",
    "<p>When contributing to a project, we might need some guidance. We might find ourselves needing some information regarding the codebase. It is important direct any questions to the right person. Contributors to open source projects generally have other day jobs, so their time is limited. It is important to address our questions to the right people. One way to identify the right target for our inquiries is by using their contribution history.</p>\n",
    "<p>We identified <code>src/compiler/scala/reflect/reify/phases/Calculate.scala</code> as being recently changed. We are interested in the top 3 developers who changed that file. Those developers are the ones most likely to have the best understanding of the code.</p>"
   ]
  },
  {
   "cell_type": "markdown",
   "metadata": {},
   "source": [
    "#### Task 7: Instructions\n",
    "Identify the top 3 developers that submitted pull requests to src/compiler/scala/reflect/reify/phases/Calculate.scala.\n",
    "\n",
    "Select the pull requests that changed that file and name the resulting DataFrame file_pr.\n",
    "Count the number of changes made by each developer and name the resulting DataFrame author_counts.\n",
    "Print the top 3 developers.\n",
    "pandas' nlargest method (documentation) is helpful for the third bullet."
   ]
  },
  {
   "cell_type": "code",
   "execution_count": 94,
   "metadata": {},
   "outputs": [
    {
     "name": "stdout",
     "output_type": "stream",
     "text": [
      "             pid          user                      date  \\\n",
      "1234    10587633      retronym 2013-12-06 10:04:43+00:00   \n",
      "12514    5320191           soc 2013-04-23 15:47:45+00:00   \n",
      "12823    5291974  bjornregnell 2013-04-22 13:56:06+00:00   \n",
      "13381    5050360      retronym 2013-04-09 06:13:57+00:00   \n",
      "13779    5026775      retronym 2013-04-08 07:07:45+00:00   \n",
      "14970    4786005     starblood 2013-03-25 02:48:48+00:00   \n",
      "17127    4295399      retronym 2013-02-24 21:43:43+00:00   \n",
      "18341    4019878           soc 2013-02-06 18:24:21+00:00   \n",
      "19174    3918789  gkossakowski 2013-01-31 00:43:19+00:00   \n",
      "19834    3854688        melloc 2013-01-26 22:47:32+00:00   \n",
      "24668    3290864         densh 2012-12-08 15:18:04+00:00   \n",
      "27074    2919907         paulp 2012-11-07 21:13:47+00:00   \n",
      "28951    2721711           soc 2012-10-21 19:58:20+00:00   \n",
      "35284    2089264         paulp 2012-08-17 16:15:26+00:00   \n",
      "35498    2072662       xeno-by 2012-08-16 05:39:22+00:00   \n",
      "35608    2071228       xeno-by 2012-08-15 23:41:59+00:00   \n",
      "36860    1984445           soc 2012-08-06 18:38:28+00:00   \n",
      "42404    1522783       xeno-by 2012-06-08 13:43:35+00:00   \n",
      "42712    1522613       xeno-by 2012-06-08 13:22:10+00:00   \n",
      "43102    1482038       xeno-by 2012-06-03 18:01:36+00:00   \n",
      "43435    1482035       xeno-by 2012-06-03 18:00:39+00:00   \n",
      "43751    1480230       xeno-by 2012-06-02 17:20:02+00:00   \n",
      "46086    1210959       xeno-by 2012-04-22 22:50:51+00:00   \n",
      "46789    1164069       odersky 2012-04-14 02:21:49+00:00   \n",
      "47089    1163831       odersky 2012-04-14 00:40:37+00:00   \n",
      "47702    1150233       xeno-by 2012-04-12 10:25:43+00:00   \n",
      "48016    1148013       xeno-by 2012-04-12 00:05:33+00:00   \n",
      "51415  162838837     zuvizudar 2018-01-14 19:16:16+00:00   \n",
      "78353   22845163      retronym 2014-10-16 10:23:42+00:00   \n",
      "84155   12102550       xeno-by 2014-02-01 01:19:58+00:00   \n",
      "\n",
      "                                                    file  month  year  \n",
      "1234   src/compiler/scala/reflect/reify/phases/Calcul...     12  2013  \n",
      "12514  src/compiler/scala/reflect/reify/phases/Calcul...      4  2013  \n",
      "12823  src/compiler/scala/reflect/reify/phases/Calcul...      4  2013  \n",
      "13381  src/compiler/scala/reflect/reify/phases/Calcul...      4  2013  \n",
      "13779  src/compiler/scala/reflect/reify/phases/Calcul...      4  2013  \n",
      "14970  src/compiler/scala/reflect/reify/phases/Calcul...      3  2013  \n",
      "17127  src/compiler/scala/reflect/reify/phases/Calcul...      2  2013  \n",
      "18341  src/compiler/scala/reflect/reify/phases/Calcul...      2  2013  \n",
      "19174  src/compiler/scala/reflect/reify/phases/Calcul...      1  2013  \n",
      "19834  src/compiler/scala/reflect/reify/phases/Calcul...      1  2013  \n",
      "24668  src/compiler/scala/reflect/reify/phases/Calcul...     12  2012  \n",
      "27074  src/compiler/scala/reflect/reify/phases/Calcul...     11  2012  \n",
      "28951  src/compiler/scala/reflect/reify/phases/Calcul...     10  2012  \n",
      "35284  src/compiler/scala/reflect/reify/phases/Calcul...      8  2012  \n",
      "35498  src/compiler/scala/reflect/reify/phases/Calcul...      8  2012  \n",
      "35608  src/compiler/scala/reflect/reify/phases/Calcul...      8  2012  \n",
      "36860  src/compiler/scala/reflect/reify/phases/Calcul...      8  2012  \n",
      "42404  src/compiler/scala/reflect/reify/phases/Calcul...      6  2012  \n",
      "42712  src/compiler/scala/reflect/reify/phases/Calcul...      6  2012  \n",
      "43102  src/compiler/scala/reflect/reify/phases/Calcul...      6  2012  \n",
      "43435  src/compiler/scala/reflect/reify/phases/Calcul...      6  2012  \n",
      "43751  src/compiler/scala/reflect/reify/phases/Calcul...      6  2012  \n",
      "46086  src/compiler/scala/reflect/reify/phases/Calcul...      4  2012  \n",
      "46789  src/compiler/scala/reflect/reify/phases/Calcul...      4  2012  \n",
      "47089  src/compiler/scala/reflect/reify/phases/Calcul...      4  2012  \n",
      "47702  src/compiler/scala/reflect/reify/phases/Calcul...      4  2012  \n",
      "48016  src/compiler/scala/reflect/reify/phases/Calcul...      4  2012  \n",
      "51415  src/compiler/scala/reflect/reify/phases/Calcul...      1  2018  \n",
      "78353  src/compiler/scala/reflect/reify/phases/Calcul...     10  2014  \n",
      "84155  src/compiler/scala/reflect/reify/phases/Calcul...      2  2014   \n",
      "\n",
      "              pid  date  file  month  year\n",
      "user                                      \n",
      "bjornregnell    1     1     1      1     1\n",
      "densh           1     1     1      1     1\n",
      "gkossakowski    1     1     1      1     1\n",
      "melloc          1     1     1      1     1\n",
      "odersky         2     2     2      2     2\n",
      "paulp           2     2     2      2     2\n",
      "retronym        5     5     5      5     5\n",
      "soc             4     4     4      4     4\n",
      "starblood       1     1     1      1     1\n",
      "xeno-by        11    11    11     11    11\n",
      "zuvizudar       1     1     1      1     1 \n",
      "\n",
      "          pid  date  file  month  year\n",
      "user                                  \n",
      "xeno-by    11    11    11     11    11\n",
      "retronym    5     5     5      5     5\n",
      "soc         4     4     4      4     4\n"
     ]
    }
   ],
   "source": [
    "# This is the file we are interested in:\n",
    "file = 'src/compiler/scala/reflect/reify/phases/Calculate.scala'\n",
    "\n",
    "# Identify the commits that changed the file\n",
    "file_pr = data[data[\"file\"] == file]\n",
    "print(file_pr, \"\\n\")\n",
    "\n",
    "# Count the number of changes made by each developer\n",
    "author_counts = file_pr.groupby(\"user\").agg(\"count\")\n",
    "print(author_counts,\"\\n\")\n",
    "\n",
    "# Print the top 3 developers\n",
    "print(author_counts.nlargest(3, 'file'))"
   ]
  },
  {
   "cell_type": "code",
   "execution_count": 95,
   "metadata": {},
   "outputs": [
    {
     "name": "stdout",
     "output_type": "stream",
     "text": [
      "            pid         user                      date  \\\n",
      "0      11166973  VladimirNik 2013-12-31 23:10:55+00:00   \n",
      "1      11166973  VladimirNik 2013-12-31 23:10:55+00:00   \n",
      "2      11166973  VladimirNik 2013-12-31 23:10:55+00:00   \n",
      "3      11166973  VladimirNik 2013-12-31 23:10:55+00:00   \n",
      "4      11161892      Ichoran 2013-12-31 16:55:47+00:00   \n",
      "...         ...          ...                       ...   \n",
      "85583  11231462      rklaehn 2014-01-04 22:42:02+00:00   \n",
      "85584  11188295      rklaehn 2014-01-02 18:55:33+00:00   \n",
      "85585  11188295      rklaehn 2014-01-02 18:55:33+00:00   \n",
      "85586  11188295      rklaehn 2014-01-02 18:55:33+00:00   \n",
      "85587  11188295      rklaehn 2014-01-02 18:55:33+00:00   \n",
      "\n",
      "                                                    file  month  year  \n",
      "0           src/reflect/scala/reflect/api/Printers.scala     12  2013  \n",
      "1      src/reflect/scala/reflect/internal/Printers.scala     12  2013  \n",
      "2                        test/files/run/reify_ann3.check     12  2013  \n",
      "3      test/junit/scala/reflect/internal/PrintersTest...     12  2013  \n",
      "4      src/library/scala/collection/mutable/ArrayOps....     12  2013  \n",
      "...                                                  ...    ...   ...  \n",
      "85583  src/library/scala/collection/immutable/HashSet...      1  2014  \n",
      "85584  src/library/scala/collection/immutable/HashSet...      1  2014  \n",
      "85585                        test/files/run/t6253a.scala      1  2014  \n",
      "85586                        test/files/run/t6253b.scala      1  2014  \n",
      "85587                        test/files/run/t6253c.scala      1  2014  \n",
      "\n",
      "[85588 rows x 6 columns]\n",
      "\n"
     ]
    }
   ],
   "source": [
    "print(data)\n",
    "print()"
   ]
  },
  {
   "cell_type": "markdown",
   "metadata": {},
   "source": [
    "## 8. Who made the last ten pull requests on a given file?\n",
    "<p>Open source projects suffer from fluctuating membership. This makes the problem of finding the right person more challenging: the person has to be knowledgeable <em>and</em> still be involved in the project. A person that contributed a lot in the past might no longer be available (or willing) to help. To get a better understanding, we need to investigate the more recent history of that particular part of the system. </p>\n",
    "<p>Like in the previous task, we will look at the history of  <code>src/compiler/scala/reflect/reify/phases/Calculate.scala</code>.</p>"
   ]
  },
  {
   "cell_type": "markdown",
   "metadata": {},
   "source": [
    "#### Task 8: Instructions\n",
    "Identify the most recent ten pull requests that touched src/compiler/scala/reflect/reify/phases/Calculate.scala.\n",
    "\n",
    "Select the pull requests that touched the file and name the resulting DataFrame file_pr.\n",
    "Merge file_pr with the pulls DataFrame on the pid column and name the resulting DataFrame joined_pr.\n",
    "Using set(), create a set of users for the ten most recent pull requests.\n",
    "To find the ten most recent pull requests, use the nlargest function of a DataFrame. Again, pandas' nlargest method (documentation) may be helpful for this third bullet."
   ]
  },
  {
   "cell_type": "code",
   "execution_count": 96,
   "metadata": {},
   "outputs": [
    {
     "name": "stdout",
     "output_type": "stream",
     "text": [
      "             pid                                               file\n",
      "13     162838837  src/compiler/scala/reflect/reify/phases/Calcul...\n",
      "26951   22845163  src/compiler/scala/reflect/reify/phases/Calcul...\n",
      "32753   12102550  src/compiler/scala/reflect/reify/phases/Calcul...\n",
      "35420   10587633  src/compiler/scala/reflect/reify/phases/Calcul...\n",
      "46700    5320191  src/compiler/scala/reflect/reify/phases/Calcul...\n",
      "47009    5291974  src/compiler/scala/reflect/reify/phases/Calcul...\n",
      "47567    5050360  src/compiler/scala/reflect/reify/phases/Calcul...\n",
      "47965    5026775  src/compiler/scala/reflect/reify/phases/Calcul...\n",
      "49156    4786005  src/compiler/scala/reflect/reify/phases/Calcul...\n",
      "51313    4295399  src/compiler/scala/reflect/reify/phases/Calcul...\n",
      "52527    4019878  src/compiler/scala/reflect/reify/phases/Calcul...\n",
      "53360    3918789  src/compiler/scala/reflect/reify/phases/Calcul...\n",
      "54020    3854688  src/compiler/scala/reflect/reify/phases/Calcul...\n",
      "58854    3290864  src/compiler/scala/reflect/reify/phases/Calcul...\n",
      "61260    2919907  src/compiler/scala/reflect/reify/phases/Calcul...\n",
      "63137    2721711  src/compiler/scala/reflect/reify/phases/Calcul...\n",
      "69470    2089264  src/compiler/scala/reflect/reify/phases/Calcul...\n",
      "69684    2072662  src/compiler/scala/reflect/reify/phases/Calcul...\n",
      "69794    2071228  src/compiler/scala/reflect/reify/phases/Calcul...\n",
      "71046    1984445  src/compiler/scala/reflect/reify/phases/Calcul...\n",
      "76590    1522783  src/compiler/scala/reflect/reify/phases/Calcul...\n",
      "76898    1522613  src/compiler/scala/reflect/reify/phases/Calcul...\n",
      "77288    1482038  src/compiler/scala/reflect/reify/phases/Calcul...\n",
      "77621    1482035  src/compiler/scala/reflect/reify/phases/Calcul...\n",
      "77937    1480230  src/compiler/scala/reflect/reify/phases/Calcul...\n",
      "80272    1210959  src/compiler/scala/reflect/reify/phases/Calcul...\n",
      "80975    1164069  src/compiler/scala/reflect/reify/phases/Calcul...\n",
      "81275    1163831  src/compiler/scala/reflect/reify/phases/Calcul...\n",
      "81888    1150233  src/compiler/scala/reflect/reify/phases/Calcul...\n",
      "82202    1148013  src/compiler/scala/reflect/reify/phases/Calcul... \n",
      "\n",
      "          pid          user                      date  \\\n",
      "0    10587633      retronym 2013-12-06 10:04:43+00:00   \n",
      "1     5320191           soc 2013-04-23 15:47:45+00:00   \n",
      "2     5291974  bjornregnell 2013-04-22 13:56:06+00:00   \n",
      "3     5050360      retronym 2013-04-09 06:13:57+00:00   \n",
      "4     5026775      retronym 2013-04-08 07:07:45+00:00   \n",
      "5     4786005     starblood 2013-03-25 02:48:48+00:00   \n",
      "6     4295399      retronym 2013-02-24 21:43:43+00:00   \n",
      "7     4019878           soc 2013-02-06 18:24:21+00:00   \n",
      "8     3918789  gkossakowski 2013-01-31 00:43:19+00:00   \n",
      "9     3854688        melloc 2013-01-26 22:47:32+00:00   \n",
      "10    3290864         densh 2012-12-08 15:18:04+00:00   \n",
      "11    2919907         paulp 2012-11-07 21:13:47+00:00   \n",
      "12    2721711           soc 2012-10-21 19:58:20+00:00   \n",
      "13    2089264         paulp 2012-08-17 16:15:26+00:00   \n",
      "14    2072662       xeno-by 2012-08-16 05:39:22+00:00   \n",
      "15    2071228       xeno-by 2012-08-15 23:41:59+00:00   \n",
      "16    1984445           soc 2012-08-06 18:38:28+00:00   \n",
      "17    1522783       xeno-by 2012-06-08 13:43:35+00:00   \n",
      "18    1522613       xeno-by 2012-06-08 13:22:10+00:00   \n",
      "19    1482038       xeno-by 2012-06-03 18:01:36+00:00   \n",
      "20    1482035       xeno-by 2012-06-03 18:00:39+00:00   \n",
      "21    1480230       xeno-by 2012-06-02 17:20:02+00:00   \n",
      "22    1210959       xeno-by 2012-04-22 22:50:51+00:00   \n",
      "23    1164069       odersky 2012-04-14 02:21:49+00:00   \n",
      "24    1163831       odersky 2012-04-14 00:40:37+00:00   \n",
      "25    1150233       xeno-by 2012-04-12 10:25:43+00:00   \n",
      "26    1148013       xeno-by 2012-04-12 00:05:33+00:00   \n",
      "27  162838837     zuvizudar 2018-01-14 19:16:16+00:00   \n",
      "28   22845163      retronym 2014-10-16 10:23:42+00:00   \n",
      "29   12102550       xeno-by 2014-02-01 01:19:58+00:00   \n",
      "\n",
      "                                                 file  \n",
      "0   src/compiler/scala/reflect/reify/phases/Calcul...  \n",
      "1   src/compiler/scala/reflect/reify/phases/Calcul...  \n",
      "2   src/compiler/scala/reflect/reify/phases/Calcul...  \n",
      "3   src/compiler/scala/reflect/reify/phases/Calcul...  \n",
      "4   src/compiler/scala/reflect/reify/phases/Calcul...  \n",
      "5   src/compiler/scala/reflect/reify/phases/Calcul...  \n",
      "6   src/compiler/scala/reflect/reify/phases/Calcul...  \n",
      "7   src/compiler/scala/reflect/reify/phases/Calcul...  \n",
      "8   src/compiler/scala/reflect/reify/phases/Calcul...  \n",
      "9   src/compiler/scala/reflect/reify/phases/Calcul...  \n",
      "10  src/compiler/scala/reflect/reify/phases/Calcul...  \n",
      "11  src/compiler/scala/reflect/reify/phases/Calcul...  \n",
      "12  src/compiler/scala/reflect/reify/phases/Calcul...  \n",
      "13  src/compiler/scala/reflect/reify/phases/Calcul...  \n",
      "14  src/compiler/scala/reflect/reify/phases/Calcul...  \n",
      "15  src/compiler/scala/reflect/reify/phases/Calcul...  \n",
      "16  src/compiler/scala/reflect/reify/phases/Calcul...  \n",
      "17  src/compiler/scala/reflect/reify/phases/Calcul...  \n",
      "18  src/compiler/scala/reflect/reify/phases/Calcul...  \n",
      "19  src/compiler/scala/reflect/reify/phases/Calcul...  \n",
      "20  src/compiler/scala/reflect/reify/phases/Calcul...  \n",
      "21  src/compiler/scala/reflect/reify/phases/Calcul...  \n",
      "22  src/compiler/scala/reflect/reify/phases/Calcul...  \n",
      "23  src/compiler/scala/reflect/reify/phases/Calcul...  \n",
      "24  src/compiler/scala/reflect/reify/phases/Calcul...  \n",
      "25  src/compiler/scala/reflect/reify/phases/Calcul...  \n",
      "26  src/compiler/scala/reflect/reify/phases/Calcul...  \n",
      "27  src/compiler/scala/reflect/reify/phases/Calcul...  \n",
      "28  src/compiler/scala/reflect/reify/phases/Calcul...  \n",
      "29  src/compiler/scala/reflect/reify/phases/Calcul...   \n",
      "\n",
      "{'soc', 'bjornregnell', 'xeno-by', 'starblood', 'zuvizudar', 'retronym'} \n",
      "\n"
     ]
    }
   ],
   "source": [
    "file = 'src/compiler/scala/reflect/reify/phases/Calculate.scala'\n",
    "\n",
    "# Select the pull requests that changed the target file\n",
    "file_pr = pull_files[pull_files['file'] == file]\n",
    "print(file_pr, \"\\n\")\n",
    "\n",
    "# Merge the obtained results with the pulls DataFrame\n",
    "joined_pr = pulls.merge(file_pr, on='pid')\n",
    "print(joined_pr, \"\\n\")\n",
    "\n",
    "# Find the users of the last 10 most recent pull requests\n",
    "users_last_10 = set(joined_pr.nlargest(10, 'date')['user'])\n",
    "print(users_last_10, \"\\n\")\n"
   ]
  },
  {
   "cell_type": "markdown",
   "metadata": {},
   "source": [
    "## 9. The pull requests of two special developers\n",
    "<p>Now that we have identified two potential contacts in the projects, we need to find the person who was most involved in the project in recent times. That person is most likely to answer our questions. For each calendar year, we are interested in understanding the number of pull requests the authors submitted. This will give us a high-level image of their contribution trend to the project.</p>"
   ]
  },
  {
   "cell_type": "markdown",
   "metadata": {},
   "source": [
    "#### Task 9: Instructions\n",
    "Plot the number of pull requests for two developers, over time.\n",
    "\n",
    "Using the pulls DataFrame, select all of the pull requests by these two developers and name the resulting DataFrame by_author.\n",
    "Fill in the groupby parameters to count the number of pull requests submitted by each author each year. That is, group by user and the year property of date.\n",
    "Plot counts_wide using a bar chart.\n",
    "pandas' isin method (documentation will be helpful for bullet one.\n",
    "\n",
    "DateTime objects expose the components of a date through their dt accessors.\n",
    "\n",
    "counts is transformed to a wide format to make plotting the bar chart of pull request count (y-axis) by year (x-axis) by user (legend) easier."
   ]
  },
  {
   "cell_type": "code",
   "execution_count": 97,
   "metadata": {},
   "outputs": [
    {
     "name": "stdout",
     "output_type": "stream",
     "text": [
      "           pid     user                      date\n",
      "7     11126653  xeno-by 2013-12-28 19:39:23+00:00\n",
      "9     11121557  xeno-by 2013-12-27 23:50:56+00:00\n",
      "10    11121465  xeno-by 2013-12-27 23:41:05+00:00\n",
      "11    11121327  xeno-by 2013-12-27 23:25:52+00:00\n",
      "12    11114584  xeno-by 2013-12-27 15:51:50+00:00\n",
      "...        ...      ...                       ...\n",
      "2878  11385248  xeno-by 2014-01-10 00:36:25+00:00\n",
      "2884  11336879  xeno-by 2014-01-08 20:10:09+00:00\n",
      "2887  11329094      soc 2014-01-08 16:46:06+00:00\n",
      "2894  11289742  xeno-by 2014-01-07 16:14:56+00:00\n",
      "2901  11234757  xeno-by 2014-01-05 12:23:24+00:00\n",
      "\n",
      "[715 rows x 3 columns] \n",
      "\n",
      "       user  date  pid\n",
      "0       soc  2011   12\n",
      "1       soc  2012   44\n",
      "2       soc  2013  117\n",
      "3       soc  2014   20\n",
      "4       soc  2015   24\n",
      "5       soc  2016   21\n",
      "6   xeno-by  2011   20\n",
      "7   xeno-by  2012  271\n",
      "8   xeno-by  2013  123\n",
      "9   xeno-by  2014   60\n",
      "10  xeno-by  2015    3 \n",
      "\n",
      "user  soc  xeno-by\n",
      "date              \n",
      "2011   12       20\n",
      "2012   44      271\n",
      "2013  117      123\n",
      "2014   20       60\n",
      "2015   24        3\n",
      "2016   21        0 \n",
      "\n"
     ]
    },
    {
     "data": {
      "text/plain": [
       "<matplotlib.axes._subplots.AxesSubplot at 0x24a10319df0>"
      ]
     },
     "execution_count": 97,
     "metadata": {},
     "output_type": "execute_result"
    },
    {
     "data": {
      "image/png": "[encoded data removed]",
      "text/plain": [
       "<Figure size 432x288 with 1 Axes>"
      ]
     },
     "metadata": {
      "needs_background": "light"
     },
     "output_type": "display_data"
    }
   ],
   "source": [
    "%matplotlib inline\n",
    "\n",
    "# The developers we are interested in\n",
    "authors = ['xeno-by', 'soc']\n",
    "\n",
    "# Get all the developers' pull requests\n",
    "by_author = pulls[pulls[\"user\"].isin(authors)]\n",
    "print(by_author, \"\\n\")\n",
    "\n",
    "# Count the number of pull requests submitted each year\n",
    "counts = by_author.groupby([\"user\", by_author[\"date\"].dt.year]).agg({'pid': 'count'}).reset_index()\n",
    "print(counts, \"\\n\")\n",
    "\n",
    "# Convert the table to a wide format\n",
    "counts_wide = counts.pivot_table(index='date', columns='user', values='pid', fill_value=0)\n",
    "print(counts_wide, \"\\n\")\n",
    "\n",
    "# Plot the results\n",
    "counts_wide.plot(kind='bar')  "
   ]
  },
  {
   "cell_type": "markdown",
   "metadata": {},
   "source": [
    "## 10. Visualizing the contributions of each developer\n",
    "<p>As mentioned before, it is important to make a distinction between the global expertise and contribution levels and the contribution levels at a more granular level (file, submodule, etc.) In our case, we want to see which of our two developers of interest have the most experience with the code in a given file. We will measure experience by the number of pull requests submitted that affect that file and how recent those pull requests were submitted.</p>"
   ]
  },
  {
   "cell_type": "markdown",
   "metadata": {},
   "source": [
    "#### Task 10: Instructions\n",
    "Calculate the number of pull requests submitted by a developer to a file each year.\n",
    "\n",
    "Select the pull requests submitted by the authors from the data DataFrame and name the results by_author.\n",
    "Select the pull requests from by_author that affect the file and name the results by_file.\n",
    "Transform grouped into a wide format using pivot_table. Name the results by_file_wide.\n",
    "The code required to complete bullet one in this task is the same as the code for bullet one in task 9, except on the data DataFrame instead of the pulls DataFrame.\n",
    "\n",
    "by_file is transformed to a wide format to make plotting the bar chart of pull request count (y-axis) by year (x-axis) by user (legend) easier. The columns for by_file_wide are as follows:\n",
    "\n",
    "Index column: date\n",
    "Columns to expand: user\n",
    "Value columns: pid\n",
    "Fill value: 0"
   ]
  },
  {
   "cell_type": "code",
   "execution_count": 98,
   "metadata": {},
   "outputs": [
    {
     "name": "stdout",
     "output_type": "stream",
     "text": [
      "            pid     user                      date  \\\n",
      "25     11126653  xeno-by 2013-12-28 19:39:23+00:00   \n",
      "26     11126653  xeno-by 2013-12-28 19:39:23+00:00   \n",
      "31     11121557  xeno-by 2013-12-27 23:50:56+00:00   \n",
      "32     11121557  xeno-by 2013-12-27 23:50:56+00:00   \n",
      "33     11121557  xeno-by 2013-12-27 23:50:56+00:00   \n",
      "...         ...      ...                       ...   \n",
      "85530  11289742  xeno-by 2014-01-07 16:14:56+00:00   \n",
      "85531  11289742  xeno-by 2014-01-07 16:14:56+00:00   \n",
      "85532  11289742  xeno-by 2014-01-07 16:14:56+00:00   \n",
      "85533  11289742  xeno-by 2014-01-07 16:14:56+00:00   \n",
      "85581  11234757  xeno-by 2014-01-05 12:23:24+00:00   \n",
      "\n",
      "                                                    file  month  year  \n",
      "25      src/reflect/scala/reflect/internal/Mirrors.scala     12  2013  \n",
      "26     test/junit/scala/reflect/internal/MirrorsTest....     12  2013  \n",
      "31                           test/files/neg/t8104a.check     12  2013  \n",
      "32                  test/files/neg/t8104a/Macros_1.scala     12  2013  \n",
      "33                    test/files/neg/t8104a/Test_2.scala     12  2013  \n",
      "...                                                  ...    ...   ...  \n",
      "85530  src/reflect/scala/reflect/internal/Importers.s...      1  2014  \n",
      "85531     src/reflect/scala/reflect/internal/Trees.scala      1  2014  \n",
      "85532  src/reflect/scala/reflect/internal/pickling/Un...      1  2014  \n",
      "85533  test/files/scalacheck/quasiquotes/ArbitraryTre...      1  2014  \n",
      "85581          src/reflect/scala/reflect/api/Trees.scala      1  2014  \n",
      "\n",
      "[16999 rows x 6 columns]\n",
      "            pid     user                      date  \\\n",
      "12514   5320191      soc 2013-04-23 15:47:45+00:00   \n",
      "18341   4019878      soc 2013-02-06 18:24:21+00:00   \n",
      "28951   2721711      soc 2012-10-21 19:58:20+00:00   \n",
      "35498   2072662  xeno-by 2012-08-16 05:39:22+00:00   \n",
      "35608   2071228  xeno-by 2012-08-15 23:41:59+00:00   \n",
      "36860   1984445      soc 2012-08-06 18:38:28+00:00   \n",
      "42404   1522783  xeno-by 2012-06-08 13:43:35+00:00   \n",
      "42712   1522613  xeno-by 2012-06-08 13:22:10+00:00   \n",
      "43102   1482038  xeno-by 2012-06-03 18:01:36+00:00   \n",
      "43435   1482035  xeno-by 2012-06-03 18:00:39+00:00   \n",
      "43751   1480230  xeno-by 2012-06-02 17:20:02+00:00   \n",
      "46086   1210959  xeno-by 2012-04-22 22:50:51+00:00   \n",
      "47702   1150233  xeno-by 2012-04-12 10:25:43+00:00   \n",
      "48016   1148013  xeno-by 2012-04-12 00:05:33+00:00   \n",
      "84155  12102550  xeno-by 2014-02-01 01:19:58+00:00   \n",
      "\n",
      "                                                    file  month  year  \n",
      "12514  src/compiler/scala/reflect/reify/phases/Calcul...      4  2013  \n",
      "18341  src/compiler/scala/reflect/reify/phases/Calcul...      2  2013  \n",
      "28951  src/compiler/scala/reflect/reify/phases/Calcul...     10  2012  \n",
      "35498  src/compiler/scala/reflect/reify/phases/Calcul...      8  2012  \n",
      "35608  src/compiler/scala/reflect/reify/phases/Calcul...      8  2012  \n",
      "36860  src/compiler/scala/reflect/reify/phases/Calcul...      8  2012  \n",
      "42404  src/compiler/scala/reflect/reify/phases/Calcul...      6  2012  \n",
      "42712  src/compiler/scala/reflect/reify/phases/Calcul...      6  2012  \n",
      "43102  src/compiler/scala/reflect/reify/phases/Calcul...      6  2012  \n",
      "43435  src/compiler/scala/reflect/reify/phases/Calcul...      6  2012  \n",
      "43751  src/compiler/scala/reflect/reify/phases/Calcul...      6  2012  \n",
      "46086  src/compiler/scala/reflect/reify/phases/Calcul...      4  2012  \n",
      "47702  src/compiler/scala/reflect/reify/phases/Calcul...      4  2012  \n",
      "48016  src/compiler/scala/reflect/reify/phases/Calcul...      4  2012  \n",
      "84155  src/compiler/scala/reflect/reify/phases/Calcul...      2  2014  \n",
      "      user  date  pid\n",
      "0      soc  2012    2\n",
      "1      soc  2013    2\n",
      "2  xeno-by  2012   10\n",
      "3  xeno-by  2014    1\n",
      "user  soc  xeno-by\n",
      "date              \n",
      "2012    2       10\n",
      "2013    2        0\n",
      "2014    0        1\n"
     ]
    },
    {
     "data": {
      "text/plain": [
       "<matplotlib.axes._subplots.AxesSubplot at 0x24a10c58a00>"
      ]
     },
     "execution_count": 98,
     "metadata": {},
     "output_type": "execute_result"
    },
    {
     "data": {
      "image/png": "[encoded data removed]",
      "text/plain": [
       "<Figure size 432x288 with 1 Axes>"
      ]
     },
     "metadata": {
      "needs_background": "light"
     },
     "output_type": "display_data"
    }
   ],
   "source": [
    "authors = ['xeno-by', 'soc']\n",
    "file = 'src/compiler/scala/reflect/reify/phases/Calculate.scala'\n",
    "\n",
    "# Select the pull requests submitted by the authors, from the `data` DataFrame\n",
    "by_author = data[data[\"user\"].isin(authors)]\n",
    "print(by_author)\n",
    "\n",
    "# Select the pull requests that affect the file\n",
    "by_file = by_author[by_author[\"file\"] == file]\n",
    "print(by_file)\n",
    "\n",
    "# Group and count the number of PRs done by each user each year\n",
    "grouped = by_file.groupby(['user', by_file['date'].dt.year]).count()['pid'].reset_index()\n",
    "print(grouped)\n",
    "\n",
    "# Transform the data into a wide format\n",
    "by_file_wide = grouped.pivot_table(index=\"date\", columns=\"user\", values=\"pid\", fill_value = 0)\n",
    "print(by_file_wide)\n",
    "\n",
    "# Plot the results\n",
    "by_file_wide.plot(kind='bar')"
   ]
  },
  {
   "cell_type": "code",
   "execution_count": null,
   "metadata": {},
   "outputs": [],
   "source": []
  }
 ],
 "metadata": {
  "kernelspec": {
   "display_name": "Python 3",
   "language": "python",
   "name": "python3"
  },
  "language_info": {
   "codemirror_mode": {
    "name": "ipython",
    "version": 3
   },
   "file_extension": ".py",
   "mimetype": "text/x-python",
   "name": "python",
   "nbconvert_exporter": "python",
   "pygments_lexer": "ipython3",
   "version": "3.8.3"
  }
 },
 "nbformat": 4,
 "nbformat_minor": 4
}
